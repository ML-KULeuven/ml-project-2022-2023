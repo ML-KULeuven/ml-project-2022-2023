{
 "cells": [
  {
   "cell_type": "markdown",
   "id": "6ceb4f78-204c-4cec-91f0-6a5018da7485",
   "metadata": {},
   "source": [
    "# Dots and Boxes"
   ]
  },
  {
   "cell_type": "code",
   "execution_count": 1,
   "id": "adfe0d8d-8e16-4d9b-99f1-9d8b38314d80",
   "metadata": {},
   "outputs": [],
   "source": [
    "import pyspiel"
   ]
  },
  {
   "cell_type": "markdown",
   "id": "f78ada3e-95eb-4cad-bc55-5f5edb92f431",
   "metadata": {},
   "source": [
    "## Set up game"
   ]
  },
  {
   "cell_type": "code",
   "execution_count": 3,
   "id": "f4f3e9c0-ba12-4cb5-b8aa-04881c04e001",
   "metadata": {},
   "outputs": [],
   "source": [
    "game_string = \"dots_and_boxes(num_rows=2,num_cols=2)\"\n",
    "game = pyspiel.load_game(game_string)"
   ]
  },
  {
   "cell_type": "code",
   "execution_count": 79,
   "id": "8b33bb15-6008-434e-a705-f2d70d7ed4f8",
   "metadata": {},
   "outputs": [
    {
     "name": "stdout",
     "output_type": "stream",
     "text": [
      "num_rows=2, num_cols=2, num_cells=9\n"
     ]
    }
   ],
   "source": [
    "params = game.get_parameters()\n",
    "num_rows = params['num_rows']\n",
    "num_cols = params['num_cols']\n",
    "num_cells = (num_rows + 1) * (num_cols + 1)\n",
    "num_parts = 3   # (horizontal, vertical, cell)\n",
    "num_states = 3  # (empty, player1, player2)\n",
    "\n",
    "def part2num(part):\n",
    "    p = {'h': 0, 'horizontal': 0, # Who has set the horizontal line\n",
    "         'v': 1, 'vertical': 1,   # Who has set the vertical line\n",
    "         'c': 2, 'cell': 2}        # Who has won the cell\n",
    "    return p.get(part, part)\n",
    "def state2num(state):\n",
    "    s = {'e': 0, 'empty': 0,\n",
    "         'p1': 1, 'player1': 1,\n",
    "         'p2': 2, 'player2': 2}\n",
    "    return s.get(state, state)\n",
    "def num2state(state):\n",
    "    s = {0: 'empty', 1: 'player1', 2: 'player2'}\n",
    "    return s.get(state, state)\n",
    "\n",
    "print(f\"{num_rows=}, {num_cols=}, {num_cells=}\")"
   ]
  },
  {
   "cell_type": "markdown",
   "id": "a0eb8629-1c98-4529-a86a-d3c6a5e09d2e",
   "metadata": {},
   "source": [
    "## Play game"
   ]
  },
  {
   "cell_type": "code",
   "execution_count": 41,
   "id": "2d3ce56c-6b25-4fff-bc71-15fc12d3bf1a",
   "metadata": {},
   "outputs": [
    {
     "data": {
      "text/plain": [
       "┌ ⋯ ┬ ⋯ ┐\n",
       "⋮   ⋮   ⋮\n",
       "├ ⋯ ┼ ⋯ ┤\n",
       "⋮   ⋮   ⋮\n",
       "└ ⋯ ┴ ⋯ ┘"
      ]
     },
     "execution_count": 41,
     "metadata": {},
     "output_type": "execute_result"
    }
   ],
   "source": [
    "state = game.new_initial_state()\n",
    "state"
   ]
  },
  {
   "cell_type": "markdown",
   "id": "1298fcbe-b503-4fae-a7d9-ffb87a4b5a2e",
   "metadata": {},
   "source": [
    "### Available actions in the current state"
   ]
  },
  {
   "cell_type": "code",
   "execution_count": 42,
   "id": "82bc3cad-bc65-4c22-b015-cab88c6f143a",
   "metadata": {},
   "outputs": [
    {
     "data": {
      "text/plain": [
       "[0, 1, 2, 3, 4, 5, 6, 7, 8, 9, 10, 11]"
      ]
     },
     "execution_count": 42,
     "metadata": {},
     "output_type": "execute_result"
    }
   ],
   "source": [
    "current_player = state.current_player()\n",
    "legal_actions = state.legal_actions()\n",
    "legal_actions"
   ]
  },
  {
   "cell_type": "code",
   "execution_count": 43,
   "id": "fb45587f-660d-49ae-a91d-d46fe184c352",
   "metadata": {},
   "outputs": [
    {
     "name": "stdout",
     "output_type": "stream",
     "text": [
      "Legal action: P1(h,0,0) (0)\n",
      "Legal action: P1(h,0,1) (1)\n",
      "Legal action: P1(h,1,0) (2)\n",
      "Legal action: P1(h,1,1) (3)\n",
      "Legal action: P1(h,2,0) (4)\n",
      "Legal action: P1(h,2,1) (5)\n",
      "Legal action: P1(v,0,0) (6)\n",
      "Legal action: P1(v,0,1) (7)\n",
      "Legal action: P1(v,0,2) (8)\n",
      "Legal action: P1(v,1,0) (9)\n",
      "Legal action: P1(v,1,1) (10)\n",
      "Legal action: P1(v,1,2) (11)\n"
     ]
    }
   ],
   "source": [
    "for action in legal_actions:\n",
    "      print(\"Legal action: {} ({})\".format(\n",
    "          state.action_to_string(current_player, action), action))\n"
   ]
  },
  {
   "cell_type": "markdown",
   "id": "7686932f-59a4-4f0c-bbfb-9c575ffcce78",
   "metadata": {},
   "source": [
    "The formula to switch between action number and action description is based on incrementally counting:\n",
    "- First all horizontal lines, row by row.\n",
    "- Second all vertical lines, row by row."
   ]
  },
  {
   "cell_type": "code",
   "execution_count": 44,
   "id": "2c194ad8-1abe-44a3-ae50-d32ec5a14e84",
   "metadata": {},
   "outputs": [
    {
     "name": "stdout",
     "output_type": "stream",
     "text": [
      "action=10 : (v,1,1)\n"
     ]
    }
   ],
   "source": [
    "action = 10\n",
    "nb_hlines = (num_rows + 1) * num_cols\n",
    "if action < nb_hlines:\n",
    "    row = action // num_cols\n",
    "    col = action % num_cols\n",
    "    print(f\"{action=} : (h,{row},{col})\")\n",
    "else:\n",
    "    action2 = action - nb_hlines\n",
    "    row = action2 // (num_cols + 1)\n",
    "    col = action2 % (num_cols + 1)\n",
    "    print(f\"{action=} : (v,{row},{col})\")"
   ]
  },
  {
   "cell_type": "markdown",
   "id": "c9a35396-dd36-46f8-8afd-af8da17f4b8e",
   "metadata": {},
   "source": [
    "### Current observation"
   ]
  },
  {
   "cell_type": "markdown",
   "id": "d5a03105-f137-4e14-b7fe-2754e129e315",
   "metadata": {},
   "source": [
    "The observation is expressed as a tensor with dimensions:\n",
    "\n",
    "- Axis 1: Nb of cellstates: `3` (empty, player1, player2)\n",
    "- Axis 2: Nb of cells: `(num_rows + 1) * (num_cols + 1)`  \n",
    "  Cells are counted row-wise (thus `cell = col + row * (num_cols + 1)`\n",
    "- Axis 3: Nb of cell parts: `3` (horizontal, vertical, won by)"
   ]
  },
  {
   "cell_type": "code",
   "execution_count": 83,
   "id": "0077ab4e-76eb-4a36-a778-054b0038d231",
   "metadata": {},
   "outputs": [],
   "source": [
    "def get_observation(obs_tensor, state, row, col, part):\n",
    "    state = state2num(state)\n",
    "    part = part2num(part)\n",
    "    idx =   part \\\n",
    "          + (row * (num_cols + 1) + col) * num_parts  \\\n",
    "          + state * (num_parts * num_cells)\n",
    "    return obs_tensor[idx]\n",
    "def get_observation_state(obs_tensor, row, col, part, as_str=True):\n",
    "    is_state = None\n",
    "    for state in range(3):\n",
    "        if get_observation(obs_tensor, state, row, col, part) == 1.0:\n",
    "            is_state = state\n",
    "    if as_str:\n",
    "        is_state = num2state(is_state)\n",
    "    return is_state"
   ]
  },
  {
   "cell_type": "code",
   "execution_count": 81,
   "id": "63026646-98a4-4489-a706-0600f07ec84e",
   "metadata": {},
   "outputs": [
    {
     "name": "stdout",
     "output_type": "stream",
     "text": [
      "┌───┬ ⋯ ┐\n",
      "│   ⋮   ⋮\n",
      "├ ⋯ ┼ ⋯ ┤\n",
      "⋮   ⋮   ⋮\n",
      "└ ⋯ ┴ ⋯ ┘\n",
      "\n"
     ]
    }
   ],
   "source": [
    "state = game.new_initial_state()\n",
    "\n",
    "state_str1 = str(state)\n",
    "obs_tensor1 = state.observation_tensor()\n",
    "state.apply_action(0)\n",
    "state_str2 = str(state)\n",
    "obs_tensor2 = state.observation_tensor()\n",
    "state.apply_action(6)\n",
    "state_str3 = str(state)\n",
    "obs_tensor3 = state.observation_tensor()\n",
    "\n",
    "print(state_str3)"
   ]
  },
  {
   "cell_type": "code",
   "execution_count": 85,
   "id": "cdca2d3f-1d57-43b9-b9a1-a6731b34b88a",
   "metadata": {},
   "outputs": [
    {
     "data": {
      "text/plain": [
       "('empty', 'player1')"
      ]
     },
     "execution_count": 85,
     "metadata": {},
     "output_type": "execute_result"
    }
   ],
   "source": [
    "(get_observation_state(obs_tensor1, 0, 0, 'h'),\n",
    " get_observation_state(obs_tensor3, 0, 0, 'h'))"
   ]
  },
  {
   "cell_type": "code",
   "execution_count": 86,
   "id": "cd78aff7-21e1-4c68-9649-069c16b51f6a",
   "metadata": {},
   "outputs": [
    {
     "data": {
      "text/plain": [
       "('empty', 'player2')"
      ]
     },
     "execution_count": 86,
     "metadata": {},
     "output_type": "execute_result"
    }
   ],
   "source": [
    "(get_observation_state(obs_tensor1, 0, 0, 'v'),\n",
    " get_observation_state(obs_tensor3, 0, 0, 'v'))"
   ]
  },
  {
   "cell_type": "code",
   "execution_count": null,
   "id": "15141eee-4d5e-4051-8329-e3a36770ff18",
   "metadata": {},
   "outputs": [],
   "source": []
  }
 ],
 "metadata": {
  "kernelspec": {
   "display_name": "Python 3 (ipykernel)",
   "language": "python",
   "name": "python3"
  },
  "language_info": {
   "codemirror_mode": {
    "name": "ipython",
    "version": 3
   },
   "file_extension": ".py",
   "mimetype": "text/x-python",
   "name": "python",
   "nbconvert_exporter": "python",
   "pygments_lexer": "ipython3",
   "version": "3.10.8"
  }
 },
 "nbformat": 4,
 "nbformat_minor": 5
}
